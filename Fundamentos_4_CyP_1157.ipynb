{
  "nbformat": 4,
  "nbformat_minor": 0,
  "metadata": {
    "colab": {
      "name": "Fundamentos_4 CyP_1157.ipynb",
      "provenance": [],
      "collapsed_sections": [],
      "authorship_tag": "ABX9TyNF9e9SKgFCaJ7vihpXRkk3",
      "include_colab_link": true
    },
    "kernelspec": {
      "name": "python3",
      "display_name": "Python 3"
    },
    "language_info": {
      "name": "python"
    }
  },
  "cells": [
    {
      "cell_type": "markdown",
      "metadata": {
        "id": "view-in-github",
        "colab_type": "text"
      },
      "source": [
        "<a href=\"https://colab.research.google.com/github/Karla-Valentin/clase-7-12-21/blob/main/Fundamentos_4_CyP_1157.ipynb\" target=\"_parent\"><img src=\"https://colab.research.google.com/assets/colab-badge.svg\" alt=\"Open In Colab\"/></a>"
      ]
    },
    {
      "cell_type": "markdown",
      "metadata": {
        "id": "uE_qU_nTUIP4"
      },
      "source": [
        "#Modularidad (funciones)\n",
        "\n",
        "Una función es una unidad de código reutilizable, ademas de ser un mecanismo para organizar código.\n",
        "\n",
        "La gran ventaja de emplear funciones es simplificar la programación.\n",
        "\n",
        "### Estructura\n",
        "Una función puede tomar cualquier cantidad de parametros de entrada (de cualquier tipo) y retornar unicamente un solovalor de cualquier tipo de dato.\n",
        "Un parametro de entrada es un valor que recibe la función para realizar sus operaciones. \n",
        "\n",
        "Con una función se pueden hacer 2 cosas :     \n",
        "1. Definirla \n",
        "2. Invocarla (ejecutarla)\n",
        "\n",
        "La gran ventaja de tener una función declarada es que la podemos reutilizar cuando se desee"
      ]
    },
    {
      "cell_type": "code",
      "metadata": {
        "id": "ZajzeoMxUAl9"
      },
      "source": [
        "#Ejemplo funcion de sumar enteros\n",
        "def sumar(op1 , op2): #función sumar y parametros op1 y op2\n",
        "    res = op1 + op2\n",
        "    return res"
      ],
      "execution_count": null,
      "outputs": []
    },
    {
      "cell_type": "code",
      "metadata": {
        "colab": {
          "base_uri": "https://localhost:8080/"
        },
        "id": "CrvfjWPZYBrA",
        "outputId": "ad053ff3-4381-4af0-d8aa-bd707edaac13"
      },
      "source": [
        "res = sumar(2 , 5)\n",
        "print(res)\n",
        "res = sumar(33 , 22)#La puedo mandar a llamar más veces\n",
        "print(res)"
      ],
      "execution_count": null,
      "outputs": [
        {
          "output_type": "stream",
          "name": "stdout",
          "text": [
            "7\n",
            "55\n"
          ]
        }
      ]
    },
    {
      "cell_type": "code",
      "metadata": {
        "colab": {
          "base_uri": "https://localhost:8080/"
        },
        "id": "4RsULtxaaRuo",
        "outputId": "db7e0f37-a91c-4420-f02b-ab109c73014a"
      },
      "source": [
        "def imprime_cuadro():\n",
        "    print(\"****\")\n",
        "    print(\"****\")\n",
        "    print(\"****\")\n",
        "    print(\"****\")\n",
        "imprime_cuadro()    "
      ],
      "execution_count": null,
      "outputs": [
        {
          "output_type": "stream",
          "name": "stdout",
          "text": [
            "****\n",
            "****\n",
            "****\n",
            "****\n"
          ]
        }
      ]
    },
    {
      "cell_type": "markdown",
      "metadata": {
        "id": "5n3-iO8ia-2C"
      },
      "source": [
        "# valor de retrno de una función\n",
        "\n",
        "Una función siempre retorna un solo valor, inclusive si ese valor es el vacio"
      ]
    },
    {
      "cell_type": "code",
      "metadata": {
        "colab": {
          "base_uri": "https://localhost:8080/"
        },
        "id": "9Z8OiCGIbLOA",
        "outputId": "b989de68-90b1-4e47-c418-5aee5ae46ec3"
      },
      "source": [
        "# invocar sumar\n",
        "res = sumar(7 , 8)\n",
        "print(res)\n",
        "#Invocar la función pintar cuadro  \n",
        "res = imprime_cuadro()\n",
        "print(res)\n"
      ],
      "execution_count": null,
      "outputs": [
        {
          "output_type": "stream",
          "name": "stdout",
          "text": [
            "15\n",
            "****\n",
            "****\n",
            "****\n",
            "****\n",
            "None\n"
          ]
        }
      ]
    },
    {
      "cell_type": "markdown",
      "metadata": {
        "id": "uLA-vI-vdGLx"
      },
      "source": [
        "# La palabra reservada None de python\n",
        "Esta palabra reservada significa vacío, equivalente a la palabra reservada void del lenguaje C, C++ y Java.\n",
        "\n",
        "Se usa para indicar ya sea un return vacío o que se recibe como parametro un vacío. "
      ]
    },
    {
      "cell_type": "code",
      "metadata": {
        "id": "utJKK2F-d45w"
      },
      "source": [
        "def multiplicar( valor , veces ):\n",
        "    c = valor * veces\n",
        "    return c"
      ],
      "execution_count": null,
      "outputs": []
    },
    {
      "cell_type": "code",
      "metadata": {
        "colab": {
          "base_uri": "https://localhost:8080/"
        },
        "id": "Eawu3gBUeH96",
        "outputId": "f3e6ac04-4d7e-4f93-b6c2-45d1a8b400a3"
      },
      "source": [
        "res = multiplicar( 5, 5)\n",
        "print(res)"
      ],
      "execution_count": null,
      "outputs": [
        {
          "output_type": "stream",
          "name": "stdout",
          "text": [
            "25\n"
          ]
        }
      ]
    },
    {
      "cell_type": "code",
      "metadata": {
        "id": "BG7EhYupeuc8"
      },
      "source": [
        "def multiplicar( valor , veces ):\n",
        "    if valor == None:\n",
        "        c = -1\n",
        "    else: \n",
        "        c = valor * veces\n",
        "    return c"
      ],
      "execution_count": null,
      "outputs": []
    },
    {
      "cell_type": "code",
      "metadata": {
        "colab": {
          "base_uri": "https://localhost:8080/"
        },
        "id": "T8Ww1C1gfAVq",
        "outputId": "1010cdf6-d008-40af-b1b7-0b18fb8e9961"
      },
      "source": [
        "res = multiplicar( None, 5)\n",
        "print(res)"
      ],
      "execution_count": null,
      "outputs": [
        {
          "output_type": "stream",
          "name": "stdout",
          "text": [
            "-1\n"
          ]
        }
      ]
    },
    {
      "cell_type": "markdown",
      "metadata": {
        "id": "M4FLaoHafgWA"
      },
      "source": [
        "# Parámetros y argumentos:      \n",
        "Son conceptos relacionados y su diferencia esta centrada en el momento en que se emplea en una función. \n",
        "\n",
        "Es decir, en la función sumar de arriba cuando se declara se le llama parámetro y cuando se invoca se le llama argumento. "
      ]
    },
    {
      "cell_type": "markdown",
      "metadata": {
        "id": "0Exfe_AcfaEU"
      },
      "source": [
        "# Parámetros posicionales\n",
        "\n",
        "En Python es posible determinar a qué parámetros estan dirigidos los argumentos segun su posición.\n"
      ]
    },
    {
      "cell_type": "code",
      "metadata": {
        "id": "kzOFEauGgo5y"
      },
      "source": [
        "def dividir(op1 , op2):\n",
        "    c = op1/op2\n",
        "    return c"
      ],
      "execution_count": null,
      "outputs": []
    },
    {
      "cell_type": "code",
      "metadata": {
        "colab": {
          "base_uri": "https://localhost:8080/"
        },
        "id": "bu3XGCuYg1Vk",
        "outputId": "04114ed6-d1b8-40a5-c0b0-349941d05be5"
      },
      "source": [
        "num1 = 25\n",
        "num2 = 5\n",
        "res = dividir(num1, num2 )\n",
        "print(res)\n",
        "res = dividir(num2, num1 ) #Cambia porque el orden tambien cambió\n",
        "print(res)"
      ],
      "execution_count": null,
      "outputs": [
        {
          "output_type": "stream",
          "name": "stdout",
          "text": [
            "5.0\n",
            "0.2\n"
          ]
        }
      ]
    },
    {
      "cell_type": "markdown",
      "metadata": {
        "id": "szFlJVgfhT8i"
      },
      "source": [
        "# Argumentos con palabras clave (keywords)\n",
        "\n",
        "Es la posibilidad de indicarle a la función en tiempo de ejecución a qué parámetro va dirigido un argumento de entrada.\n",
        "\n",
        "Solo disponible en Python.\n"
      ]
    },
    {
      "cell_type": "code",
      "metadata": {
        "colab": {
          "base_uri": "https://localhost:8080/"
        },
        "id": "sG_TyzvNhTXE",
        "outputId": "b4dc0f4b-32ca-444e-bc67-47927c05f0b2"
      },
      "source": [
        "res = dividir(op2=num2, op1=num1 ) \n",
        "print(res)"
      ],
      "execution_count": null,
      "outputs": [
        {
          "output_type": "stream",
          "name": "stdout",
          "text": [
            "5.0\n"
          ]
        }
      ]
    },
    {
      "cell_type": "code",
      "metadata": {
        "id": "O6nGEVjAk8QE"
      },
      "source": [
        "def letra_J( caracter ):\n",
        "    print(f\"   {caracter}\")\n",
        "    print(f\"   {caracter}\")\n",
        "    print(f\"   {caracter}\")\n",
        "    print(f\"   {caracter}\")\n",
        "    print(f\"{caracter}{caracter}{caracter}{caracter}\")"
      ],
      "execution_count": null,
      "outputs": []
    },
    {
      "cell_type": "code",
      "metadata": {
        "colab": {
          "base_uri": "https://localhost:8080/"
        },
        "id": "BsXNBo0hlUym",
        "outputId": "c1547e25-f970-4b97-ab80-3423549bb7b4"
      },
      "source": [
        "letra_J('J')"
      ],
      "execution_count": null,
      "outputs": [
        {
          "output_type": "stream",
          "name": "stdout",
          "text": [
            "   J\n",
            "   J\n",
            "   J\n",
            "   J\n",
            "JJJJ\n"
          ]
        }
      ]
    },
    {
      "cell_type": "code",
      "source": [
        "def letra_K( caracter ):\n",
        "    print(f\"   {caracter}      {caracter}\")\n",
        "    print(f\"   {caracter}    {caracter}\")\n",
        "    print(f\"   {caracter}  {caracter}\")\n",
        "    print(f\"   {caracter} {caracter}\")\n",
        "    print(f\"   {caracter}  {caracter}\")\n",
        "    print(f\"   {caracter}    {caracter}\")\n",
        "    print(f\"   {caracter}      {caracter}\")"
      ],
      "metadata": {
        "id": "dSEP1yxSVAvl"
      },
      "execution_count": 7,
      "outputs": []
    },
    {
      "cell_type": "code",
      "source": [
        "letra_K(\"\\U0001F384\" )"
      ],
      "metadata": {
        "colab": {
          "base_uri": "https://localhost:8080/"
        },
        "id": "7MLoQHwHVCW9",
        "outputId": "67b8e4b7-8bfc-4048-c28c-1a3587020db9"
      },
      "execution_count": 8,
      "outputs": [
        {
          "output_type": "stream",
          "name": "stdout",
          "text": [
            "   🎄      🎄\n",
            "   🎄    🎄\n",
            "   🎄  🎄\n",
            "   🎄 🎄\n",
            "   🎄  🎄\n",
            "   🎄    🎄\n",
            "   🎄      🎄\n"
          ]
        }
      ]
    },
    {
      "cell_type": "code",
      "source": [
        "def letra_A(caracter):\n",
        "    print(f\"         {caracter}\")\n",
        "    print(f\"      {caracter}   {caracter}\")\n",
        "    print(f\"    {caracter}      {caracter}\")\n",
        "    print(f\"   {caracter}        {caracter}\")\n",
        "    print(f\"  {caracter}{caracter}{caracter}{caracter}{caracter}{caracter}\")\n",
        "    print(f\" {caracter}            {caracter}\")\n",
        "    print(f\"{caracter}              {caracter}\")\n",
        "    "
      ],
      "metadata": {
        "id": "m5pHzBzJVHKz"
      },
      "execution_count": 9,
      "outputs": []
    },
    {
      "cell_type": "code",
      "source": [
        "letra_A(\"\\U0001F385\")"
      ],
      "metadata": {
        "colab": {
          "base_uri": "https://localhost:8080/"
        },
        "id": "GxD1hkFaVK88",
        "outputId": "ba1bd658-6954-40ae-95fe-075df2445d02"
      },
      "execution_count": 10,
      "outputs": [
        {
          "output_type": "stream",
          "name": "stdout",
          "text": [
            "         🎅\n",
            "      🎅   🎅\n",
            "    🎅      🎅\n",
            "   🎅        🎅\n",
            "  🎅🎅🎅🎅🎅🎅\n",
            " 🎅            🎅\n",
            "🎅              🎅\n"
          ]
        }
      ]
    },
    {
      "cell_type": "code",
      "source": [
        "def letra_R(caracter):\n",
        "    print(f\"{caracter}{caracter}{caracter}{caracter}\")\n",
        "    print(f\"{caracter}        {caracter}\")\n",
        "    print(f\"{caracter}        {caracter}\")\n",
        "    print(f\"{caracter}       {caracter}\")\n",
        "    print(f\"{caracter}    {caracter}\")\n",
        "    print(f\"{caracter}       {caracter}\")\n",
        "    print(f\"{caracter}         {caracter}\")"
      ],
      "metadata": {
        "id": "DRKQ11_fVNNk"
      },
      "execution_count": 11,
      "outputs": []
    },
    {
      "cell_type": "code",
      "source": [
        "letra_R(\"\\U0001F98C\")"
      ],
      "metadata": {
        "colab": {
          "base_uri": "https://localhost:8080/"
        },
        "id": "UCE8S7AgVP37",
        "outputId": "6171b701-935f-4109-ff4e-b680b956be27"
      },
      "execution_count": 12,
      "outputs": [
        {
          "output_type": "stream",
          "name": "stdout",
          "text": [
            "🦌🦌🦌🦌\n",
            "🦌        🦌\n",
            "🦌        🦌\n",
            "🦌       🦌\n",
            "🦌    🦌\n",
            "🦌       🦌\n",
            "🦌         🦌\n"
          ]
        }
      ]
    },
    {
      "cell_type": "code",
      "source": [
        "def letra_L(caracter):\n",
        "    print(f\"{caracter}\")\n",
        "    print(f\"{caracter}\")\n",
        "    print(f\"{caracter}\")\n",
        "    print(f\"{caracter}\")\n",
        "    print(f\"{caracter}\")\n",
        "    print(f\"{caracter}\")\n",
        "    print(f\"{caracter}{caracter}{caracter}{caracter}{caracter}\")"
      ],
      "metadata": {
        "id": "f0cE1hmuVSPV"
      },
      "execution_count": 13,
      "outputs": []
    },
    {
      "cell_type": "code",
      "source": [
        "letra_L(\"\\U0001F31F\")"
      ],
      "metadata": {
        "colab": {
          "base_uri": "https://localhost:8080/"
        },
        "id": "mv-w7zQ5VU7u",
        "outputId": "17420e46-fdbf-487d-b795-58662086ca38"
      },
      "execution_count": 14,
      "outputs": [
        {
          "output_type": "stream",
          "name": "stdout",
          "text": [
            "🌟\n",
            "🌟\n",
            "🌟\n",
            "🌟\n",
            "🌟\n",
            "🌟\n",
            "🌟🌟🌟🌟🌟\n"
          ]
        }
      ]
    },
    {
      "cell_type": "code",
      "source": [
        "letra_A(\"\\U0001F936\")"
      ],
      "metadata": {
        "colab": {
          "base_uri": "https://localhost:8080/"
        },
        "id": "uKeiq1Y6VXGz",
        "outputId": "2431ac15-fd91-4100-cb36-b637c0531477"
      },
      "execution_count": 15,
      "outputs": [
        {
          "output_type": "stream",
          "name": "stdout",
          "text": [
            "         🤶\n",
            "      🤶   🤶\n",
            "    🤶      🤶\n",
            "   🤶        🤶\n",
            "  🤶🤶🤶🤶🤶🤶\n",
            " 🤶            🤶\n",
            "🤶              🤶\n"
          ]
        }
      ]
    },
    {
      "cell_type": "markdown",
      "source": [
        "#Argumento por defecto\n",
        "\n",
        "Es la capacidad de las funciones de establecer un valor por defecto (default)\n",
        "\n",
        "Si no se envia un argumento a dicho parametro, entonces se asigna el que el programador asigno como default"
      ],
      "metadata": {
        "id": "6AwSXTiv-E-d"
      }
    },
    {
      "cell_type": "code",
      "source": [
        "def dividir( op1 , op2=1 ): #si no se da el valor, el valor por defecto va a ser 1\n",
        "    c = op1 / op2\n",
        "    return c\n",
        "\n",
        "print(dividir(25))    "
      ],
      "metadata": {
        "colab": {
          "base_uri": "https://localhost:8080/"
        },
        "id": "Q-NcLkUr-c8h",
        "outputId": "0431afaa-34d4-43ed-f24a-855675f70f98"
      },
      "execution_count": 2,
      "outputs": [
        {
          "output_type": "stream",
          "name": "stdout",
          "text": [
            "25.0\n"
          ]
        }
      ]
    },
    {
      "cell_type": "markdown",
      "source": [
        "Este concepto se puede ejemplificar con la función **print**."
      ],
      "metadata": {
        "id": "4ICuLHgQ_FYJ"
      }
    },
    {
      "cell_type": "code",
      "source": [
        "help(print)"
      ],
      "metadata": {
        "colab": {
          "base_uri": "https://localhost:8080/"
        },
        "id": "Kh-zVqI2_OLW",
        "outputId": "f04e9a32-3b6c-4f06-87c7-a948056baedf"
      },
      "execution_count": 3,
      "outputs": [
        {
          "output_type": "stream",
          "name": "stdout",
          "text": [
            "Help on built-in function print in module builtins:\n",
            "\n",
            "print(...)\n",
            "    print(value, ..., sep=' ', end='\\n', file=sys.stdout, flush=False)\n",
            "    \n",
            "    Prints the values to a stream, or to sys.stdout by default.\n",
            "    Optional keyword arguments:\n",
            "    file:  a file-like object (stream); defaults to the current sys.stdout.\n",
            "    sep:   string inserted between values, default a space.\n",
            "    end:   string appended after the last value, default a newline.\n",
            "    flush: whether to forcibly flush the stream.\n",
            "\n"
          ]
        }
      ]
    },
    {
      "cell_type": "code",
      "source": [
        "nombre = \"José\" \n",
        "edad = 18\n",
        "print(nombre, edad, sep=':)') #el separador va a ser una carita feliz\n",
        "#el separador puede ser cualquier cadena\n",
        "print(\"hola\", end=\" \")#al final de imprimir hola, imprimir un espacio en blanco\n",
        "print(\"-------\")"
      ],
      "metadata": {
        "colab": {
          "base_uri": "https://localhost:8080/"
        },
        "id": "JTAcFTU-_oSI",
        "outputId": "a0d93f2d-85f3-483a-fbf5-2f0517821047"
      },
      "execution_count": 9,
      "outputs": [
        {
          "output_type": "stream",
          "name": "stdout",
          "text": [
            "José:)18\n",
            "hola -------\n"
          ]
        }
      ]
    },
    {
      "cell_type": "markdown",
      "source": [
        "#Ejercicio de Argumentos posicionales "
      ],
      "metadata": {
        "id": "LhnqDgBXArvs"
      }
    },
    {
      "cell_type": "code",
      "source": [
        "#Tres parametros y tres argumentos\n",
        "#El comensal si no dice que quiere, por defecto se le dara esas comidas\n",
        "def comanda(comensal=1,primer=\"consome\",segundo=\"Arroz rojo\", tercero=\"Enchiladas\"):\n",
        "    print(f\"El comensal {comensal} quiere:\")\n",
        "    print(\"\\t Entrada:\", primer)\n",
        "    print(\"\\t Medio:\", segundo)\n",
        "    print(\"\\t Plato fuerte:\", tercero)\n",
        "comanda()    \n",
        "\n",
        "comanda(3,\"Ensalada\",\"arroz blanco\",\"Esparragos al horno\")\n",
        "#Si se quisiera mandar en otro orden\n",
        "comanda(segundo=\"arroz blanco\",tercero=\"Esparragos al horno\",primer=\"Ensalada\",comensal=3)"
      ],
      "metadata": {
        "colab": {
          "base_uri": "https://localhost:8080/"
        },
        "id": "gv6n4DDtAzUP",
        "outputId": "8c61f13d-bd0e-488b-a497-ec075fc687c9"
      },
      "execution_count": 14,
      "outputs": [
        {
          "output_type": "stream",
          "name": "stdout",
          "text": [
            "El comensal 1 quiere:\n",
            "\t Entrada: consome\n",
            "\t Medio: Arroz rojo\n",
            "\t Plato fuerte: Enchiladas\n",
            "El comensal 3 quiere:\n",
            "\t Entrada: Ensalada\n",
            "\t Medio: arroz blanco\n",
            "\t Plato fuerte: Esparragos al horno\n",
            "El comensal 3 quiere:\n",
            "\t Entrada: Ensalada\n",
            "\t Medio: arroz blanco\n",
            "\t Plato fuerte: Esparragos al horno\n"
          ]
        }
      ]
    },
    {
      "cell_type": "markdown",
      "source": [
        "# Argumentos enviados en grupo en una tupla.\n",
        "Esto sirve para enviar multiples argumentos a una función empleando el comodin *\n",
        "```\n",
        "def mifun(args*):\n",
        "    <cuerpo de la función>\n",
        "```    "
      ],
      "metadata": {
        "id": "TE-M03ndDdZU"
      }
    },
    {
      "cell_type": "code",
      "source": [
        "#al poner un asterico indica que se van a recibir un grupo de argumentos\n",
        "def comanda2( *opciones ):\n",
        "    print(f\"El comensal{opciones[0]} pidió:\") \n",
        "    print(\"\\tEntrada: \",opciones[1])\n",
        "    print(\"\\tSegundo: \",opciones[2])\n",
        "    print(\"\\tPlato fuerte: \",opciones[3])\n",
        "    print(\"indicaciones extra:\")\n",
        "    for instruccion in opciones[4::]:\n",
        "        print(\"\\n\",instruccion)\n",
        ")#valores recibidos dentro de una tupla    \n",
        "comanda2(1 , \"sopa de fideo\",\"Arroz\",\"Arrachera\",\"La arrachera que aun se mueva\",\"postre una gelatina\""
      ],
      "metadata": {
        "colab": {
          "base_uri": "https://localhost:8080/"
        },
        "id": "UInVkgR7ELZq",
        "outputId": "2c9c9fc0-9d77-40ad-c418-215770fcace6"
      },
      "execution_count": 22,
      "outputs": [
        {
          "output_type": "stream",
          "name": "stdout",
          "text": [
            "El comensal1 pidió:\n",
            "\tEntrada:  sopa de fideo\n",
            "\tSegundo:  Arroz\n",
            "\tPlato fuerte:  Arrachera\n",
            "indicaciones extra:\n",
            "\n",
            " La arrachera que aun se mueva\n",
            "\n",
            " postre una gelatina\n"
          ]
        }
      ]
    },
    {
      "cell_type": "markdown",
      "source": [
        "# Argumentos enviados en grupo en un diccionario \n",
        "Es el mismo concepto que el anterior pero se usa el comdin ** y se mapea a un diccionario."
      ],
      "metadata": {
        "id": "-OlEaIkGG0ql"
      }
    },
    {
      "cell_type": "code",
      "source": [
        "def comanda3( **opciones ):\n",
        "    print(opciones)\n",
        "    print(f\"El comensal {opciones['comensal']} pidió\")\n",
        "   \n",
        "comanda3(segundo=\"arroz blanco\",tercero=\"Esparragos al horno\",primer=\"Ensalada\",comensal=3)"
      ],
      "metadata": {
        "colab": {
          "base_uri": "https://localhost:8080/"
        },
        "id": "_onKpX0kHCPl",
        "outputId": "c1aaf27a-2716-4dba-f300-7e5131779456"
      },
      "execution_count": 25,
      "outputs": [
        {
          "output_type": "stream",
          "name": "stdout",
          "text": [
            "{'segundo': 'arroz blanco', 'tercero': 'Esparragos al horno', 'primer': 'Ensalada', 'comensal': 3}\n",
            "El comensal 3 pidió\n"
          ]
        }
      ]
    },
    {
      "cell_type": "code",
      "source": [
        "def comanda3( **opciones ):\n",
        "    ops = opciones.keys() \n",
        "    print(ops)\n",
        "    for key in ops:\n",
        "        print(f\"{key} = {opciones[key]}\")\n",
        "\n",
        "comanda3(segundo=\"arroz blanco\",tercero=\"Esparragos al horno\",primer=\"Ensalada\",comensal=3)    "
      ],
      "metadata": {
        "colab": {
          "base_uri": "https://localhost:8080/"
        },
        "id": "9YwvN0mdIyZo",
        "outputId": "fb90591c-9e27-46ad-93f1-c0b43af9b001"
      },
      "execution_count": 27,
      "outputs": [
        {
          "output_type": "stream",
          "name": "stdout",
          "text": [
            "dict_keys(['segundo', 'tercero', 'primer', 'comensal'])\n",
            "segundo = arroz blanco\n",
            "tercero = Esparragos al horno\n",
            "primer = Ensalada\n",
            "comensal = 3\n"
          ]
        }
      ]
    },
    {
      "cell_type": "markdown",
      "source": [
        "#modularidad y biblioteca\n",
        "Todos los lenguajes de programación tienen la capacidad de compartir código  entre la comunidad de programadores.\n",
        "\n",
        "Para ello cada lenguaje establece un mecanismo para escribir y compartir bibliotecas."
      ],
      "metadata": {
        "id": "wPkj7zuUJw6x"
      }
    },
    {
      "cell_type": "code",
      "source": [
        "!pip install simple_chalk"
      ],
      "metadata": {
        "colab": {
          "base_uri": "https://localhost:8080/"
        },
        "id": "ayed6toBMDdd",
        "outputId": "978884ea-655f-4cca-c0d0-e0084e0615ca"
      },
      "execution_count": 29,
      "outputs": [
        {
          "output_type": "stream",
          "name": "stdout",
          "text": [
            "Collecting simple_chalk\n",
            "  Downloading simple_chalk-0.1.0.tar.gz (13 kB)\n",
            "Building wheels for collected packages: simple-chalk\n",
            "  Building wheel for simple-chalk (setup.py) ... \u001b[?25l\u001b[?25hdone\n",
            "  Created wheel for simple-chalk: filename=simple_chalk-0.1.0-py3-none-any.whl size=22163 sha256=5f800573a8f3f8465ef658cb6a750fd01820dc6baad87315eda2319a37e0bcc8\n",
            "  Stored in directory: /root/.cache/pip/wheels/24/e2/84/d54838032016039eef79df1137b91defaa6db068d825dfcdcd\n",
            "Successfully built simple-chalk\n",
            "Installing collected packages: simple-chalk\n",
            "Successfully installed simple-chalk-0.1.0\n"
          ]
        }
      ]
    },
    {
      "cell_type": "code",
      "source": [
        "from simple_chalk import chalk, yellow\n",
        "print(chalk.yellow(\"Hola en color amarillo\"))"
      ],
      "metadata": {
        "colab": {
          "base_uri": "https://localhost:8080/"
        },
        "id": "BP-HWu4mJkbp",
        "outputId": "fddd46d9-f684-44e5-fd2c-c089bb6615ec"
      },
      "execution_count": 33,
      "outputs": [
        {
          "output_type": "stream",
          "name": "stdout",
          "text": [
            "\u001b[33mHola en color amarillo\u001b[0m\n"
          ]
        }
      ]
    },
    {
      "cell_type": "markdown",
      "source": [
        "#¿Cómo escribo un modulo o una biblioteca de código?\n",
        "\n",
        "Se define en un archivo de biblioteca. "
      ],
      "metadata": {
        "id": "_IzoqxO9O_bo"
      }
    },
    {
      "cell_type": "code",
      "source": [
        "!cat mi_modulo.py"
      ],
      "metadata": {
        "colab": {
          "base_uri": "https://localhost:8080/"
        },
        "id": "Uq3JzW-MO-ke",
        "outputId": "2f78f63d-1d86-462e-df4a-ed8338343b51"
      },
      "execution_count": 34,
      "outputs": [
        {
          "output_type": "stream",
          "name": "stdout",
          "text": [
            "def sumar(a , b):\r\n",
            "    return a + b\r\n",
            "def mi_print( texto , final ):\r\n",
            "    print(\"Super:\", text , end=final)    \r\n",
            "\r\n"
          ]
        }
      ]
    },
    {
      "cell_type": "code",
      "source": [
        "import mi_modulo #carpeta que creamos\n",
        "\n",
        "res=mi_modulo.sumar(7 , 5)\n",
        "print(res)\n",
        "\n",
        "mi_modulo.mi_print(\"Karla\",\"\\n\")"
      ],
      "metadata": {
        "colab": {
          "base_uri": "https://localhost:8080/"
        },
        "id": "HXZKL-tSQrYd",
        "outputId": "1039792a-98b0-4065-b8ce-bc4e3b8101c1"
      },
      "execution_count": 1,
      "outputs": [
        {
          "output_type": "stream",
          "name": "stdout",
          "text": [
            "12\n",
            "Super: Karla\n"
          ]
        }
      ]
    },
    {
      "cell_type": "code",
      "source": [
        "from mi_modulo import sumar , mi_print\n",
        "res = sumar( 5 , 3)\n",
        "print(res)\n",
        "mi_print(\"Karla\" ,\"\\n\" )"
      ],
      "metadata": {
        "colab": {
          "base_uri": "https://localhost:8080/"
        },
        "id": "FRf8Cb4lR6nF",
        "outputId": "03768c3c-7e5c-4a5d-b90c-3dc652bb63fa"
      },
      "execution_count": 3,
      "outputs": [
        {
          "output_type": "stream",
          "name": "stdout",
          "text": [
            "8\n",
            "Super: Karla\n"
          ]
        }
      ]
    },
    {
      "cell_type": "markdown",
      "source": [
        "#Manejon de archivos con Python 3\n",
        "\n",
        "-Leer archivos \n",
        "-Escribir en archivos\n",
        "-Manipular la información delida desde un archivo.\n",
        "-Foramtos de un archivo."
      ],
      "metadata": {
        "id": "sHRgPAuBSnsF"
      }
    },
    {
      "cell_type": "code",
      "source": [
        "archivo = open(\"salida.txt\" , \"wt\")\n",
        "archivo.write(\"Hola mundo\")\n",
        "archivo.close()"
      ],
      "metadata": {
        "id": "GfrM3TwlS2aP"
      },
      "execution_count": 5,
      "outputs": []
    },
    {
      "cell_type": "code",
      "source": [
        "!cat salida.txt"
      ],
      "metadata": {
        "colab": {
          "base_uri": "https://localhost:8080/"
        },
        "id": "yD1NV6OHTMik",
        "outputId": "7a33d308-8fb4-4720-fac0-ca051d3f58ff"
      },
      "execution_count": 6,
      "outputs": [
        {
          "output_type": "stream",
          "name": "stdout",
          "text": [
            "Hola mundo"
          ]
        }
      ]
    }
  ]
}